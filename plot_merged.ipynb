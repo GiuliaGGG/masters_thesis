{
 "cells": [
  {
   "cell_type": "code",
   "execution_count": null,
   "id": "ad72d668",
   "metadata": {},
   "outputs": [],
   "source": [
    "# Columns to plot (skip 'fy', 'ticker', 'boycotted')\n",
    "cols_to_plot = [col for col in merged_df.columns if col not in ['fy', 'fp', 'ticker', 'boycotted']]\n",
    "\n",
    "for col in cols_to_plot:\n",
    "    plt.figure(figsize=(12, 6))\n",
    "    \n",
    "    # Separate tickers by boycott status\n",
    "    boycotted_tickers = merged_df[merged_df['boycotted'] == 1]['ticker'].unique()\n",
    "    non_boycotted_tickers = merged_df[merged_df['boycotted'] == 0]['ticker'].unique()\n",
    "    \n",
    "    # Red gradient for boycotted tickers\n",
    "    reds = plt.cm.Reds(np.linspace(0.4, 1, len(boycotted_tickers)))\n",
    "    for color, ticker in zip(reds, boycotted_tickers):\n",
    "        df_ticker = merged_df[merged_df['ticker'] == ticker]\n",
    "        plt.plot(df_ticker['fy'], df_ticker[col], marker='o', color=color, label=ticker)\n",
    "    \n",
    "    # Blue gradient for non-boycotted tickers\n",
    "    blues = plt.cm.Blues(np.linspace(0.4, 1, len(non_boycotted_tickers)))\n",
    "    for color, ticker in zip(blues, non_boycotted_tickers):\n",
    "        df_ticker = merged_df[merged_df['ticker'] == ticker]\n",
    "        plt.plot(df_ticker['fy'], df_ticker[col], marker='o', color=color, label=ticker)\n",
    "    \n",
    "    plt.xlabel('Fiscal Year (fy)')\n",
    "    plt.ylabel(col)\n",
    "    plt.title(f'{col} over Fiscal Year by Ticker')\n",
    "    plt.legend()\n",
    "    plt.grid(True)\n",
    "    plt.show()\n",
    "\n"
   ]
  },
  {
   "cell_type": "code",
   "execution_count": null,
   "id": "59a29302",
   "metadata": {},
   "outputs": [],
   "source": [
    "\n",
    "plt.figure(figsize=(12, 6))\n",
    "\n",
    "# Loop over each ticker\n",
    "for ticker in merged_df['ticker'].unique():\n",
    "    df_ticker = merged_df[merged_df['ticker'] == ticker]\n",
    "    plt.plot(df_ticker['fy'], df_ticker['revenue'], marker='o', label=ticker)\n",
    "\n",
    "plt.xlabel('Fiscal Year (fy)')\n",
    "plt.ylabel('Revenue')\n",
    "plt.title('Revenue over Fiscal Year by Ticker')\n",
    "plt.legend()\n",
    "plt.grid(True)\n",
    "plt.show()\n"
   ]
  }
 ],
 "metadata": {
  "kernelspec": {
   "display_name": "mt",
   "language": "python",
   "name": "python3"
  },
  "language_info": {
   "codemirror_mode": {
    "name": "ipython",
    "version": 3
   },
   "file_extension": ".py",
   "mimetype": "text/x-python",
   "name": "python",
   "nbconvert_exporter": "python",
   "pygments_lexer": "ipython3",
   "version": "3.13.5"
  }
 },
 "nbformat": 4,
 "nbformat_minor": 5
}
