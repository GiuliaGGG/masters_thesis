{
 "cells": [
  {
   "cell_type": "code",
   "execution_count": null,
   "id": "1ac8308d",
   "metadata": {},
   "outputs": [
    {
     "ename": "ValueError",
     "evalue": "Series can only be used with a 2-level MultiIndex",
     "output_type": "error",
     "traceback": [
      "\u001b[31m---------------------------------------------------------------------------\u001b[39m",
      "\u001b[31mValueError\u001b[39m                                Traceback (most recent call last)",
      "\u001b[36mCell\u001b[39m\u001b[36m \u001b[39m\u001b[32mIn[32]\u001b[39m\u001b[32m, line 17\u001b[39m\n\u001b[32m     14\u001b[39m \u001b[38;5;28;01massert\u001b[39;00m \u001b[33m'\u001b[39m\u001b[33mgross_profit\u001b[39m\u001b[33m'\u001b[39m \u001b[38;5;129;01min\u001b[39;00m df.columns, \u001b[33m\"\u001b[39m\u001b[33mgross_profit not found in dataframe columns\u001b[39m\u001b[33m\"\u001b[39m\n\u001b[32m     16\u001b[39m \u001b[38;5;66;03m# Define model\u001b[39;00m\n\u001b[32m---> \u001b[39m\u001b[32m17\u001b[39m m = \u001b[43mPanelOLS\u001b[49m\u001b[43m(\u001b[49m\u001b[43mdependent\u001b[49m\u001b[43m=\u001b[49m\u001b[43mdf\u001b[49m\u001b[43m[\u001b[49m\u001b[33;43m'\u001b[39;49m\u001b[33;43mrevenue\u001b[39;49m\u001b[33;43m'\u001b[39;49m\u001b[43m]\u001b[49m\u001b[43m,\u001b[49m\n\u001b[32m     18\u001b[39m \u001b[43m             \u001b[49m\u001b[43mexog\u001b[49m\u001b[43m=\u001b[49m\u001b[43mdf\u001b[49m\u001b[43m[\u001b[49m\u001b[43m[\u001b[49m\u001b[33;43m'\u001b[39;49m\u001b[33;43mboycotted\u001b[39;49m\u001b[33;43m'\u001b[39;49m\u001b[43m,\u001b[49m\u001b[33;43m'\u001b[39;49m\u001b[33;43moperating_expenses\u001b[39;49m\u001b[33;43m'\u001b[39;49m\u001b[43m,\u001b[49m\u001b[33;43m'\u001b[39;49m\u001b[33;43mr_and_d\u001b[39;49m\u001b[33;43m'\u001b[39;49m\u001b[43m]\u001b[49m\u001b[43m]\u001b[49m\u001b[43m,\u001b[49m\n\u001b[32m     19\u001b[39m \u001b[43m             \u001b[49m\u001b[43mentity_effects\u001b[49m\u001b[43m=\u001b[49m\u001b[38;5;28;43;01mTrue\u001b[39;49;00m\u001b[43m,\u001b[49m\n\u001b[32m     20\u001b[39m \u001b[43m             \u001b[49m\u001b[43mtime_effects\u001b[49m\u001b[43m=\u001b[49m\u001b[38;5;28;43;01mFalse\u001b[39;49;00m\u001b[43m,\u001b[49m\n\u001b[32m     21\u001b[39m \u001b[43m             \u001b[49m\u001b[43mother_effects\u001b[49m\u001b[43m=\u001b[49m\u001b[43m \u001b[49m\u001b[38;5;28;43;01mNone\u001b[39;49;00m\u001b[43m)\u001b[49m\n\u001b[32m     22\u001b[39m \u001b[38;5;66;03m# Fit model with robust clustered SEs\u001b[39;00m\n\u001b[32m     25\u001b[39m results = m.fit(cov_type=\u001b[33m'\u001b[39m\u001b[33mclustered\u001b[39m\u001b[33m'\u001b[39m, cluster_entity=\u001b[38;5;28;01mTrue\u001b[39;00m)\n",
      "\u001b[36mFile \u001b[39m\u001b[32m/opt/miniconda3/envs/mt/lib/python3.13/site-packages/linearmodels/panel/model.py:1260\u001b[39m, in \u001b[36mPanelOLS.__init__\u001b[39m\u001b[34m(self, dependent, exog, weights, entity_effects, time_effects, other_effects, singletons, drop_absorbed, check_rank)\u001b[39m\n\u001b[32m   1247\u001b[39m \u001b[38;5;28;01mdef\u001b[39;00m\u001b[38;5;250m \u001b[39m\u001b[34m__init__\u001b[39m(\n\u001b[32m   1248\u001b[39m     \u001b[38;5;28mself\u001b[39m,\n\u001b[32m   1249\u001b[39m     dependent: PanelDataLike,\n\u001b[32m   (...)\u001b[39m\u001b[32m   1258\u001b[39m     check_rank: \u001b[38;5;28mbool\u001b[39m = \u001b[38;5;28;01mTrue\u001b[39;00m,\n\u001b[32m   1259\u001b[39m ) -> \u001b[38;5;28;01mNone\u001b[39;00m:\n\u001b[32m-> \u001b[39m\u001b[32m1260\u001b[39m     \u001b[38;5;28;43msuper\u001b[39;49m\u001b[43m(\u001b[49m\u001b[43m)\u001b[49m\u001b[43m.\u001b[49m\u001b[34;43m__init__\u001b[39;49m\u001b[43m(\u001b[49m\u001b[43mdependent\u001b[49m\u001b[43m,\u001b[49m\u001b[43m \u001b[49m\u001b[43mexog\u001b[49m\u001b[43m,\u001b[49m\u001b[43m \u001b[49m\u001b[43mweights\u001b[49m\u001b[43m=\u001b[49m\u001b[43mweights\u001b[49m\u001b[43m,\u001b[49m\u001b[43m \u001b[49m\u001b[43mcheck_rank\u001b[49m\u001b[43m=\u001b[49m\u001b[43mcheck_rank\u001b[49m\u001b[43m)\u001b[49m\n\u001b[32m   1262\u001b[39m     \u001b[38;5;28mself\u001b[39m._entity_effects = entity_effects\n\u001b[32m   1263\u001b[39m     \u001b[38;5;28mself\u001b[39m._time_effects = time_effects\n",
      "\u001b[36mFile \u001b[39m\u001b[32m/opt/miniconda3/envs/mt/lib/python3.13/site-packages/linearmodels/panel/model.py:319\u001b[39m, in \u001b[36m_PanelModelBase.__init__\u001b[39m\u001b[34m(self, dependent, exog, weights, check_rank)\u001b[39m\n\u001b[32m    311\u001b[39m \u001b[38;5;28;01mdef\u001b[39;00m\u001b[38;5;250m \u001b[39m\u001b[34m__init__\u001b[39m(\n\u001b[32m    312\u001b[39m     \u001b[38;5;28mself\u001b[39m,\n\u001b[32m    313\u001b[39m     dependent: PanelDataLike,\n\u001b[32m   (...)\u001b[39m\u001b[32m    317\u001b[39m     check_rank: \u001b[38;5;28mbool\u001b[39m = \u001b[38;5;28;01mTrue\u001b[39;00m,\n\u001b[32m    318\u001b[39m ) -> \u001b[38;5;28;01mNone\u001b[39;00m:\n\u001b[32m--> \u001b[39m\u001b[32m319\u001b[39m     \u001b[38;5;28mself\u001b[39m.dependent = \u001b[43mPanelData\u001b[49m\u001b[43m(\u001b[49m\u001b[43mdependent\u001b[49m\u001b[43m,\u001b[49m\u001b[43m \u001b[49m\u001b[33;43m\"\u001b[39;49m\u001b[33;43mDep\u001b[39;49m\u001b[33;43m\"\u001b[39;49m\u001b[43m)\u001b[49m\n\u001b[32m    320\u001b[39m     \u001b[38;5;28mself\u001b[39m.exog = PanelData(exog, \u001b[33m\"\u001b[39m\u001b[33mExog\u001b[39m\u001b[33m\"\u001b[39m)\n\u001b[32m    321\u001b[39m     \u001b[38;5;28mself\u001b[39m._original_shape = \u001b[38;5;28mself\u001b[39m.dependent.shape\n",
      "\u001b[36mFile \u001b[39m\u001b[32m/opt/miniconda3/envs/mt/lib/python3.13/site-packages/linearmodels/panel/data.py:211\u001b[39m, in \u001b[36mPanelData.__init__\u001b[39m\u001b[34m(self, x, var_name, convert_dummies, drop_first, copy)\u001b[39m\n\u001b[32m    209\u001b[39m     x = DataFrame(x)\n\u001b[32m    210\u001b[39m \u001b[38;5;28;01melif\u001b[39;00m \u001b[38;5;28misinstance\u001b[39m(x, Series):\n\u001b[32m--> \u001b[39m\u001b[32m211\u001b[39m     \u001b[38;5;28;01mraise\u001b[39;00m \u001b[38;5;167;01mValueError\u001b[39;00m(\u001b[33m\"\u001b[39m\u001b[33mSeries can only be used with a 2-level MultiIndex\u001b[39m\u001b[33m\"\u001b[39m)\n\u001b[32m    213\u001b[39m \u001b[38;5;28;01mif\u001b[39;00m \u001b[38;5;28misinstance\u001b[39m(x, DataFrame):\n\u001b[32m    214\u001b[39m     \u001b[38;5;28;01mif\u001b[39;00m \u001b[38;5;28misinstance\u001b[39m(x.index, MultiIndex):\n",
      "\u001b[31mValueError\u001b[39m: Series can only be used with a 2-level MultiIndex"
     ]
    }
   ],
   "source": [
    "from linearmodels import PanelOLS\n",
    "import pandas as pd\n",
    "\n",
    "# Load dataset\n",
    "df = pd.read_csv('merged_dataset.csv')\n",
    "\n",
    "# Ensure numeric fiscal year (fy)\n",
    "df['fy'] = pd.to_numeric(df['fy'], errors='coerce')\n",
    "\n",
    "year = pd.Categorical(df['fy'])\n",
    "data = df.set_index(['ticker', 'fy'])\n",
    "data['fy'] = year\n",
    "# Sanity check: confirm column present\n",
    "assert 'gross_profit' in df.columns, \"gross_profit not found in dataframe columns\"\n",
    "\n",
    "# Define model\n",
    "m = PanelOLS(dependent=df['revenue'],\n",
    "             exog=df[['boycotted','operating_expenses','r_and_d']],\n",
    "             entity_effects=True,\n",
    "             time_effects=False,\n",
    "             other_effects= None)\n",
    "# Fit model with robust clustered SEs\n",
    "\n",
    "\n",
    "results = m.fit(cov_type='clustered', cluster_entity=True)\n",
    "\n",
    "print(results.summary)\n",
    "\n"
   ]
  },
  {
   "cell_type": "code",
   "execution_count": null,
   "id": "85659ba0",
   "metadata": {},
   "outputs": [
    {
     "ename": "ValueError",
     "evalue": "Columns with duplicate values are not supported in stack",
     "output_type": "error",
     "traceback": [
      "\u001b[31m---------------------------------------------------------------------------\u001b[39m",
      "\u001b[31mValueError\u001b[39m                                Traceback (most recent call last)",
      "\u001b[36mCell\u001b[39m\u001b[36m \u001b[39m\u001b[32mIn[36]\u001b[39m\u001b[32m, line 2\u001b[39m\n\u001b[32m      1\u001b[39m \u001b[38;5;66;03m# Formula API (easiest)\u001b[39;00m\n\u001b[32m----> \u001b[39m\u001b[32m2\u001b[39m mod = \u001b[43mPanelOLS\u001b[49m\u001b[43m.\u001b[49m\u001b[43mfrom_formula\u001b[49m\u001b[43m(\u001b[49m\n\u001b[32m      3\u001b[39m \u001b[43m    \u001b[49m\u001b[33;43m'\u001b[39;49m\u001b[33;43mrevenue ~ 1 + boycotted + operating_expenses + r_and_d + year\u001b[39;49m\u001b[33;43m'\u001b[39;49m\u001b[43m,\u001b[49m\n\u001b[32m      4\u001b[39m \u001b[43m    \u001b[49m\u001b[43mdata\u001b[49m\u001b[43m=\u001b[49m\u001b[43mdata\u001b[49m\n\u001b[32m      5\u001b[39m \u001b[43m)\u001b[49m\n\u001b[32m      7\u001b[39m \u001b[38;5;66;03m# Or 2-D endogenous:\u001b[39;00m\n\u001b[32m      8\u001b[39m y = df[[\u001b[33m'\u001b[39m\u001b[33mgross_profit\u001b[39m\u001b[33m'\u001b[39m]]              \u001b[38;5;66;03m# DataFrame, not Series\u001b[39;00m\n",
      "\u001b[36mFile \u001b[39m\u001b[32m/opt/miniconda3/envs/mt/lib/python3.13/site-packages/linearmodels/panel/model.py:1460\u001b[39m, in \u001b[36mPanelOLS.from_formula\u001b[39m\u001b[34m(cls, formula, data, weights, other_effects, singletons, drop_absorbed, check_rank)\u001b[39m\n\u001b[32m   1402\u001b[39m \u001b[38;5;129m@classmethod\u001b[39m\n\u001b[32m   1403\u001b[39m \u001b[38;5;28;01mdef\u001b[39;00m\u001b[38;5;250m \u001b[39m\u001b[34mfrom_formula\u001b[39m(\n\u001b[32m   1404\u001b[39m     \u001b[38;5;28mcls\u001b[39m,\n\u001b[32m   (...)\u001b[39m\u001b[32m   1412\u001b[39m     check_rank: \u001b[38;5;28mbool\u001b[39m = \u001b[38;5;28;01mTrue\u001b[39;00m,\n\u001b[32m   1413\u001b[39m ) -> PanelOLS:\n\u001b[32m   1414\u001b[39m \u001b[38;5;250m    \u001b[39m\u001b[33;03m\"\"\"\u001b[39;00m\n\u001b[32m   1415\u001b[39m \u001b[33;03m    Create a model from a formula\u001b[39;00m\n\u001b[32m   1416\u001b[39m \n\u001b[32m   (...)\u001b[39m\u001b[32m   1458\u001b[39m \u001b[33;03m    >>> res = mod.fit(cov_type=\"clustered\", cluster_entity=True)\u001b[39;00m\n\u001b[32m   1459\u001b[39m \u001b[33;03m    \"\"\"\u001b[39;00m\n\u001b[32m-> \u001b[39m\u001b[32m1460\u001b[39m     parser = \u001b[43mPanelFormulaParser\u001b[49m\u001b[43m(\u001b[49m\u001b[43mformula\u001b[49m\u001b[43m,\u001b[49m\u001b[43m \u001b[49m\u001b[43mdata\u001b[49m\u001b[43m,\u001b[49m\u001b[43m \u001b[49m\u001b[43mcontext\u001b[49m\u001b[43m=\u001b[49m\u001b[43mcapture_context\u001b[49m\u001b[43m(\u001b[49m\u001b[32;43m1\u001b[39;49m\u001b[43m)\u001b[49m\u001b[43m)\u001b[49m\n\u001b[32m   1461\u001b[39m     entity_effect = parser.entity_effect\n\u001b[32m   1462\u001b[39m     time_effect = parser.time_effect\n",
      "\u001b[36mFile \u001b[39m\u001b[32m/opt/miniconda3/envs/mt/lib/python3.13/site-packages/linearmodels/panel/model.py:166\u001b[39m, in \u001b[36mPanelFormulaParser.__init__\u001b[39m\u001b[34m(self, formula, data, eval_env, context)\u001b[39m\n\u001b[32m    158\u001b[39m \u001b[38;5;28;01mdef\u001b[39;00m\u001b[38;5;250m \u001b[39m\u001b[34m__init__\u001b[39m(\n\u001b[32m    159\u001b[39m     \u001b[38;5;28mself\u001b[39m,\n\u001b[32m    160\u001b[39m     formula: \u001b[38;5;28mstr\u001b[39m,\n\u001b[32m   (...)\u001b[39m\u001b[32m    163\u001b[39m     context: Mapping[\u001b[38;5;28mstr\u001b[39m, Any] | \u001b[38;5;28;01mNone\u001b[39;00m = \u001b[38;5;28;01mNone\u001b[39;00m,\n\u001b[32m    164\u001b[39m ) -> \u001b[38;5;28;01mNone\u001b[39;00m:\n\u001b[32m    165\u001b[39m     \u001b[38;5;28mself\u001b[39m._formula = formula\n\u001b[32m--> \u001b[39m\u001b[32m166\u001b[39m     \u001b[38;5;28mself\u001b[39m._data = \u001b[43mPanelData\u001b[49m\u001b[43m(\u001b[49m\u001b[43mdata\u001b[49m\u001b[43m,\u001b[49m\u001b[43m \u001b[49m\u001b[43mconvert_dummies\u001b[49m\u001b[43m=\u001b[49m\u001b[38;5;28;43;01mFalse\u001b[39;49;00m\u001b[43m,\u001b[49m\u001b[43m \u001b[49m\u001b[43mcopy\u001b[49m\u001b[43m=\u001b[49m\u001b[38;5;28;43;01mFalse\u001b[39;49;00m\u001b[43m)\u001b[49m\n\u001b[32m    167\u001b[39m     \u001b[38;5;28mself\u001b[39m._na_action = NAAction(\u001b[33m\"\u001b[39m\u001b[33mignore\u001b[39m\u001b[33m\"\u001b[39m)\n\u001b[32m    168\u001b[39m     \u001b[38;5;28mself\u001b[39m._eval_env = eval_env\n",
      "\u001b[36mFile \u001b[39m\u001b[32m/opt/miniconda3/envs/mt/lib/python3.13/site-packages/linearmodels/panel/data.py:227\u001b[39m, in \u001b[36mPanelData.__init__\u001b[39m\u001b[34m(self, x, var_name, convert_dummies, drop_first, copy)\u001b[39m\n\u001b[32m    225\u001b[39m     \u001b[38;5;28;01melse\u001b[39;00m:\n\u001b[32m    226\u001b[39m         options = {\u001b[33m\"\u001b[39m\u001b[33mfuture_stack\u001b[39m\u001b[33m\"\u001b[39m: \u001b[38;5;28;01mTrue\u001b[39;00m} \u001b[38;5;28;01mif\u001b[39;00m PD_GTE_21 \u001b[38;5;28;01melse\u001b[39;00m {\u001b[33m\"\u001b[39m\u001b[33mdropna\u001b[39m\u001b[33m\"\u001b[39m: \u001b[38;5;28;01mFalse\u001b[39;00m}\n\u001b[32m--> \u001b[39m\u001b[32m227\u001b[39m         \u001b[38;5;28mself\u001b[39m._frame = DataFrame({var_name: \u001b[43mx\u001b[49m\u001b[43m.\u001b[49m\u001b[43mT\u001b[49m\u001b[43m.\u001b[49m\u001b[43mstack\u001b[49m\u001b[43m(\u001b[49m\u001b[43m*\u001b[49m\u001b[43m*\u001b[49m\u001b[43moptions\u001b[49m\u001b[43m)\u001b[49m})\n\u001b[32m    228\u001b[39m \u001b[38;5;28;01melif\u001b[39;00m \u001b[38;5;28misinstance\u001b[39m(x, np.ndarray):\n\u001b[32m    229\u001b[39m     \u001b[38;5;28;01mif\u001b[39;00m x.ndim \u001b[38;5;129;01mnot\u001b[39;00m \u001b[38;5;129;01min\u001b[39;00m (\u001b[32m2\u001b[39m, \u001b[32m3\u001b[39m):\n",
      "\u001b[36mFile \u001b[39m\u001b[32m/opt/miniconda3/envs/mt/lib/python3.13/site-packages/pandas/core/frame.py:9738\u001b[39m, in \u001b[36mDataFrame.stack\u001b[39m\u001b[34m(self, level, dropna, sort, future_stack)\u001b[39m\n\u001b[32m   9736\u001b[39m         level = [level]\n\u001b[32m   9737\u001b[39m     level = [\u001b[38;5;28mself\u001b[39m.columns._get_level_number(lev) \u001b[38;5;28;01mfor\u001b[39;00m lev \u001b[38;5;129;01min\u001b[39;00m level]\n\u001b[32m-> \u001b[39m\u001b[32m9738\u001b[39m     result = \u001b[43mstack_v3\u001b[49m\u001b[43m(\u001b[49m\u001b[38;5;28;43mself\u001b[39;49m\u001b[43m,\u001b[49m\u001b[43m \u001b[49m\u001b[43mlevel\u001b[49m\u001b[43m)\u001b[49m\n\u001b[32m   9740\u001b[39m \u001b[38;5;28;01mreturn\u001b[39;00m result.__finalize__(\u001b[38;5;28mself\u001b[39m, method=\u001b[33m\"\u001b[39m\u001b[33mstack\u001b[39m\u001b[33m\"\u001b[39m)\n",
      "\u001b[36mFile \u001b[39m\u001b[32m/opt/miniconda3/envs/mt/lib/python3.13/site-packages/pandas/core/reshape/reshape.py:887\u001b[39m, in \u001b[36mstack_v3\u001b[39m\u001b[34m(frame, level)\u001b[39m\n\u001b[32m    885\u001b[39m \u001b[38;5;28;01mdef\u001b[39;00m\u001b[38;5;250m \u001b[39m\u001b[34mstack_v3\u001b[39m(frame: DataFrame, level: \u001b[38;5;28mlist\u001b[39m[\u001b[38;5;28mint\u001b[39m]) -> Series | DataFrame:\n\u001b[32m    886\u001b[39m     \u001b[38;5;28;01mif\u001b[39;00m frame.columns.nunique() != \u001b[38;5;28mlen\u001b[39m(frame.columns):\n\u001b[32m--> \u001b[39m\u001b[32m887\u001b[39m         \u001b[38;5;28;01mraise\u001b[39;00m \u001b[38;5;167;01mValueError\u001b[39;00m(\u001b[33m\"\u001b[39m\u001b[33mColumns with duplicate values are not supported in stack\u001b[39m\u001b[33m\"\u001b[39m)\n\u001b[32m    889\u001b[39m     \u001b[38;5;66;03m# If we need to drop `level` from columns, it needs to be in descending order\u001b[39;00m\n\u001b[32m    890\u001b[39m     drop_levnums = \u001b[38;5;28msorted\u001b[39m(level, reverse=\u001b[38;5;28;01mTrue\u001b[39;00m)\n",
      "\u001b[31mValueError\u001b[39m: Columns with duplicate values are not supported in stack"
     ]
    }
   ],
   "source": [
    "# Formula API (easiest)\n",
    "mod = PanelOLS.from_formula(\n",
    "    'revenue ~ 1 + boycotted + operating_expenses + r_and_d + year',\n",
    "    data=data\n",
    ")\n",
    "\n",
    "# Or 2-D endogenous:\n",
    "y = df[['gross_profit']]              # DataFrame, not Series\n",
    "X = df[['boycotted','operating_expenses','r_and_d']]\n",
    "mod = PanelOLS(y, X, entity_effects=True, time_effects=True)\n"
   ]
  },
  {
   "cell_type": "code",
   "execution_count": null,
   "id": "e525b760",
   "metadata": {},
   "outputs": [
    {
     "name": "stderr",
     "output_type": "stream",
     "text": [
      "/opt/miniconda3/envs/mt/lib/python3.13/site-packages/linearmodels/panel/model.py:1260: MissingValueWarning: \n",
      "Inputs contain missing values. Dropping rows with missing observations.\n",
      "  super().__init__(dependent, exog, weights=weights, check_rank=check_rank)\n"
     ]
    },
    {
     "ename": "ValueError",
     "evalue": "exog does not have full column rank. If you wish to proceed with model estimation irrespective of the numerical accuracy of coefficient estimates, you can set check_rank=False.",
     "output_type": "error",
     "traceback": [
      "\u001b[31m---------------------------------------------------------------------------\u001b[39m",
      "\u001b[31mValueError\u001b[39m                                Traceback (most recent call last)",
      "\u001b[36mCell\u001b[39m\u001b[36m \u001b[39m\u001b[32mIn[38]\u001b[39m\u001b[32m, line 14\u001b[39m\n\u001b[32m     11\u001b[39m \u001b[38;5;66;03m# Clean any accidental duplicate columns (just in case)\u001b[39;00m\n\u001b[32m     12\u001b[39m df = df.loc[:, ~df.columns.duplicated()]\n\u001b[32m---> \u001b[39m\u001b[32m14\u001b[39m mod = \u001b[43mPanelOLS\u001b[49m\u001b[43m.\u001b[49m\u001b[43mfrom_formula\u001b[49m\u001b[43m(\u001b[49m\n\u001b[32m     15\u001b[39m \u001b[43m    \u001b[49m\u001b[33;43m'\u001b[39;49m\u001b[33;43mrevenue ~ 1 + boycotted + operating_expenses + r_and_d + EntityEffects + TimeEffects\u001b[39;49m\u001b[33;43m'\u001b[39;49m\u001b[43m,\u001b[49m\n\u001b[32m     16\u001b[39m \u001b[43m    \u001b[49m\u001b[43mdata\u001b[49m\u001b[43m=\u001b[49m\u001b[43mdf\u001b[49m\n\u001b[32m     17\u001b[39m \u001b[43m)\u001b[49m\n\u001b[32m     18\u001b[39m res = mod.fit(cov_type=\u001b[33m'\u001b[39m\u001b[33mclustered\u001b[39m\u001b[33m'\u001b[39m, cluster_entity=\u001b[38;5;28;01mTrue\u001b[39;00m)\n\u001b[32m     19\u001b[39m \u001b[38;5;28mprint\u001b[39m(res.summary)\n",
      "\u001b[36mFile \u001b[39m\u001b[32m/opt/miniconda3/envs/mt/lib/python3.13/site-packages/linearmodels/panel/model.py:1464\u001b[39m, in \u001b[36mPanelOLS.from_formula\u001b[39m\u001b[34m(cls, formula, data, weights, other_effects, singletons, drop_absorbed, check_rank)\u001b[39m\n\u001b[32m   1462\u001b[39m time_effect = parser.time_effect\n\u001b[32m   1463\u001b[39m dependent, exog = parser.data\n\u001b[32m-> \u001b[39m\u001b[32m1464\u001b[39m mod = \u001b[38;5;28;43mcls\u001b[39;49m\u001b[43m(\u001b[49m\n\u001b[32m   1465\u001b[39m \u001b[43m    \u001b[49m\u001b[43mdependent\u001b[49m\u001b[43m,\u001b[49m\n\u001b[32m   1466\u001b[39m \u001b[43m    \u001b[49m\u001b[43mexog\u001b[49m\u001b[43m,\u001b[49m\n\u001b[32m   1467\u001b[39m \u001b[43m    \u001b[49m\u001b[43mentity_effects\u001b[49m\u001b[43m=\u001b[49m\u001b[43mentity_effect\u001b[49m\u001b[43m,\u001b[49m\n\u001b[32m   1468\u001b[39m \u001b[43m    \u001b[49m\u001b[43mtime_effects\u001b[49m\u001b[43m=\u001b[49m\u001b[43mtime_effect\u001b[49m\u001b[43m,\u001b[49m\n\u001b[32m   1469\u001b[39m \u001b[43m    \u001b[49m\u001b[43mweights\u001b[49m\u001b[43m=\u001b[49m\u001b[43mweights\u001b[49m\u001b[43m,\u001b[49m\n\u001b[32m   1470\u001b[39m \u001b[43m    \u001b[49m\u001b[43mother_effects\u001b[49m\u001b[43m=\u001b[49m\u001b[43mother_effects\u001b[49m\u001b[43m,\u001b[49m\n\u001b[32m   1471\u001b[39m \u001b[43m    \u001b[49m\u001b[43msingletons\u001b[49m\u001b[43m=\u001b[49m\u001b[43msingletons\u001b[49m\u001b[43m,\u001b[49m\n\u001b[32m   1472\u001b[39m \u001b[43m    \u001b[49m\u001b[43mdrop_absorbed\u001b[49m\u001b[43m=\u001b[49m\u001b[43mdrop_absorbed\u001b[49m\u001b[43m,\u001b[49m\n\u001b[32m   1473\u001b[39m \u001b[43m    \u001b[49m\u001b[43mcheck_rank\u001b[49m\u001b[43m=\u001b[49m\u001b[43mcheck_rank\u001b[49m\u001b[43m,\u001b[49m\n\u001b[32m   1474\u001b[39m \u001b[43m\u001b[49m\u001b[43m)\u001b[49m\n\u001b[32m   1475\u001b[39m mod.formula = formula\n\u001b[32m   1476\u001b[39m \u001b[38;5;28;01mreturn\u001b[39;00m mod\n",
      "\u001b[36mFile \u001b[39m\u001b[32m/opt/miniconda3/envs/mt/lib/python3.13/site-packages/linearmodels/panel/model.py:1260\u001b[39m, in \u001b[36mPanelOLS.__init__\u001b[39m\u001b[34m(self, dependent, exog, weights, entity_effects, time_effects, other_effects, singletons, drop_absorbed, check_rank)\u001b[39m\n\u001b[32m   1247\u001b[39m \u001b[38;5;28;01mdef\u001b[39;00m\u001b[38;5;250m \u001b[39m\u001b[34m__init__\u001b[39m(\n\u001b[32m   1248\u001b[39m     \u001b[38;5;28mself\u001b[39m,\n\u001b[32m   1249\u001b[39m     dependent: PanelDataLike,\n\u001b[32m   (...)\u001b[39m\u001b[32m   1258\u001b[39m     check_rank: \u001b[38;5;28mbool\u001b[39m = \u001b[38;5;28;01mTrue\u001b[39;00m,\n\u001b[32m   1259\u001b[39m ) -> \u001b[38;5;28;01mNone\u001b[39;00m:\n\u001b[32m-> \u001b[39m\u001b[32m1260\u001b[39m     \u001b[38;5;28;43msuper\u001b[39;49m\u001b[43m(\u001b[49m\u001b[43m)\u001b[49m\u001b[43m.\u001b[49m\u001b[34;43m__init__\u001b[39;49m\u001b[43m(\u001b[49m\u001b[43mdependent\u001b[49m\u001b[43m,\u001b[49m\u001b[43m \u001b[49m\u001b[43mexog\u001b[49m\u001b[43m,\u001b[49m\u001b[43m \u001b[49m\u001b[43mweights\u001b[49m\u001b[43m=\u001b[49m\u001b[43mweights\u001b[49m\u001b[43m,\u001b[49m\u001b[43m \u001b[49m\u001b[43mcheck_rank\u001b[49m\u001b[43m=\u001b[49m\u001b[43mcheck_rank\u001b[49m\u001b[43m)\u001b[49m\n\u001b[32m   1262\u001b[39m     \u001b[38;5;28mself\u001b[39m._entity_effects = entity_effects\n\u001b[32m   1263\u001b[39m     \u001b[38;5;28mself\u001b[39m._time_effects = time_effects\n",
      "\u001b[36mFile \u001b[39m\u001b[32m/opt/miniconda3/envs/mt/lib/python3.13/site-packages/linearmodels/panel/model.py:339\u001b[39m, in \u001b[36m_PanelModelBase.__init__\u001b[39m\u001b[34m(self, dependent, exog, weights, check_rank)\u001b[39m\n\u001b[32m    337\u001b[39m \u001b[38;5;28mself\u001b[39m._constant_index: \u001b[38;5;28mint\u001b[39m | \u001b[38;5;28;01mNone\u001b[39;00m = \u001b[38;5;28;01mNone\u001b[39;00m\n\u001b[32m    338\u001b[39m \u001b[38;5;28mself\u001b[39m._check_rank = \u001b[38;5;28mbool\u001b[39m(check_rank)\n\u001b[32m--> \u001b[39m\u001b[32m339\u001b[39m \u001b[38;5;28;43mself\u001b[39;49m\u001b[43m.\u001b[49m\u001b[43m_validate_data\u001b[49m\u001b[43m(\u001b[49m\u001b[43m)\u001b[49m\n\u001b[32m    340\u001b[39m \u001b[38;5;28mself\u001b[39m._singleton_index: linearmodels.typing.data.BoolArray | \u001b[38;5;28;01mNone\u001b[39;00m = \u001b[38;5;28;01mNone\u001b[39;00m\n",
      "\u001b[36mFile \u001b[39m\u001b[32m/opt/miniconda3/envs/mt/lib/python3.13/site-packages/linearmodels/panel/model.py:494\u001b[39m, in \u001b[36m_PanelModelBase._validate_data\u001b[39m\u001b[34m(self)\u001b[39m\n\u001b[32m    492\u001b[39m w_df = w_df / w_df.mean()\n\u001b[32m    493\u001b[39m \u001b[38;5;28mself\u001b[39m.weights = PanelData(w_df)\n\u001b[32m--> \u001b[39m\u001b[32m494\u001b[39m rank_of_x = \u001b[38;5;28;43mself\u001b[39;49m\u001b[43m.\u001b[49m\u001b[43m_check_exog_rank\u001b[49m\u001b[43m(\u001b[49m\u001b[43m)\u001b[49m\n\u001b[32m    495\u001b[39m \u001b[38;5;28mself\u001b[39m._constant, \u001b[38;5;28mself\u001b[39m._constant_index = has_constant(x, rank_of_x)\n",
      "\u001b[36mFile \u001b[39m\u001b[32m/opt/miniconda3/envs/mt/lib/python3.13/site-packages/linearmodels/panel/model.py:447\u001b[39m, in \u001b[36m_PanelModelBase._check_exog_rank\u001b[39m\u001b[34m(self)\u001b[39m\n\u001b[32m    445\u001b[39m _, _, rank_of_x, _ = _lstsq(x, np.ones(x.shape[\u001b[32m0\u001b[39m]))\n\u001b[32m    446\u001b[39m \u001b[38;5;28;01mif\u001b[39;00m rank_of_x < x.shape[\u001b[32m1\u001b[39m]:\n\u001b[32m--> \u001b[39m\u001b[32m447\u001b[39m     \u001b[38;5;28;01mraise\u001b[39;00m \u001b[38;5;167;01mValueError\u001b[39;00m(\n\u001b[32m    448\u001b[39m         \u001b[33m\"\u001b[39m\u001b[33mexog does not have full column rank. If you wish to proceed with \u001b[39m\u001b[33m\"\u001b[39m\n\u001b[32m    449\u001b[39m         \u001b[33m\"\u001b[39m\u001b[33mmodel estimation irrespective of the numerical accuracy of \u001b[39m\u001b[33m\"\u001b[39m\n\u001b[32m    450\u001b[39m         \u001b[33m\"\u001b[39m\u001b[33mcoefficient estimates, you can set check_rank=False.\u001b[39m\u001b[33m\"\u001b[39m\n\u001b[32m    451\u001b[39m     )\n\u001b[32m    452\u001b[39m \u001b[38;5;28;01mreturn\u001b[39;00m rank_of_x\n",
      "\u001b[31mValueError\u001b[39m: exog does not have full column rank. If you wish to proceed with model estimation irrespective of the numerical accuracy of coefficient estimates, you can set check_rank=False."
     ]
    }
   ],
   "source": [
    "from linearmodels import PanelOLS\n",
    "import pandas as pd\n",
    "\n",
    "df = pd.read_csv('merged_dataset.csv')\n",
    "\n",
    "# panel index\n",
    "df['fy'] = pd.to_numeric(df['fy'], errors='coerce')\n",
    "df = df.dropna(subset=['ticker','fy'])\n",
    "df = df.set_index(['ticker','fy']).sort_index()\n",
    "\n",
    "# Clean any accidental duplicate columns (just in case)\n",
    "df = df.loc[:, ~df.columns.duplicated()]\n",
    "\n",
    "mod = PanelOLS.from_formula(\n",
    "    'revenue ~ 1 + boycotted + operating_expenses + r_and_d + EntityEffects + TimeEffects',\n",
    "    data=df\n",
    ")\n",
    "res = mod.fit(cov_type='clustered', cluster_entity=True)\n",
    "print(res.summary)\n"
   ]
  },
  {
   "cell_type": "code",
   "execution_count": null,
   "id": "aeb6ed85",
   "metadata": {},
   "outputs": [
    {
     "name": "stdout",
     "output_type": "stream",
     "text": [
      "Share of firms where 'boycotted' changes over time: 0.00%\n",
      "Share of years with cross-sectional variation in 'boycotted': 100.00%\n"
     ]
    }
   ],
   "source": [
    "# Does \"boycotted\" vary within firm over time?\n",
    "vary_within_entity = (\n",
    "    df.reset_index()\n",
    "      .groupby('ticker')['boycotted'].nunique()\n",
    "      .gt(1).mean()\n",
    ")\n",
    "print(f\"Share of firms where 'boycotted' changes over time: {vary_within_entity:.2%}\")\n",
    "\n",
    "# Does \"boycotted\" vary across firms *within the same year*?\n",
    "vary_within_time = (\n",
    "    df.reset_index()\n",
    "      .groupby('fy')['boycotted'].nunique()\n",
    "      .gt(1).mean()\n",
    ")\n",
    "print(f\"Share of years with cross-sectional variation in 'boycotted': {vary_within_time:.2%}\")\n"
   ]
  }
 ],
 "metadata": {
  "kernelspec": {
   "display_name": "mt",
   "language": "python",
   "name": "python3"
  },
  "language_info": {
   "codemirror_mode": {
    "name": "ipython",
    "version": 3
   },
   "file_extension": ".py",
   "mimetype": "text/x-python",
   "name": "python",
   "nbconvert_exporter": "python",
   "pygments_lexer": "ipython3",
   "version": "3.13.5"
  }
 },
 "nbformat": 4,
 "nbformat_minor": 5
}
